{
 "cells": [
  {
   "cell_type": "markdown",
   "id": "effective-latest",
   "metadata": {},
   "source": [
    "## BDT Data Science Challenge\n",
    "A few brave coders are going to try to achieve top results by applying their top ideas and algorithms."
   ]
  },
  {
   "cell_type": "markdown",
   "id": "civic-disclosure",
   "metadata": {},
   "source": [
    "Get the dataset for the BDT Data Science Challenge on June 12-13 weekend.\n"
   ]
  },
  {
   "cell_type": "code",
   "execution_count": 5,
   "id": "favorite-filing",
   "metadata": {},
   "outputs": [
    {
     "name": "stdout",
     "output_type": "stream",
     "text": [
      "  % Total    % Received % Xferd  Average Speed   Time    Time     Time  Current\n",
      "                                 Dload  Upload   Total   Spent    Left  Speed\n",
      "100 16.5M  100 16.5M    0     0  20.5M      0 --:--:-- --:--:-- --:--:-- 20.4M\n"
     ]
    }
   ],
   "source": [
    "!curl https://raw.githubusercontent.com/nuwe-io/bdt_hackathon/main/particles.csv > ./particles.csv"
   ]
  },
  {
   "cell_type": "code",
   "execution_count": 6,
   "id": "exciting-season",
   "metadata": {},
   "outputs": [
    {
     "data": {
      "text/html": [
       "<div>\n",
       "<style scoped>\n",
       "    .dataframe tbody tr th:only-of-type {\n",
       "        vertical-align: middle;\n",
       "    }\n",
       "\n",
       "    .dataframe tbody tr th {\n",
       "        vertical-align: top;\n",
       "    }\n",
       "\n",
       "    .dataframe thead th {\n",
       "        text-align: right;\n",
       "    }\n",
       "</style>\n",
       "<table border=\"1\" class=\"dataframe\">\n",
       "  <thead>\n",
       "    <tr style=\"text-align: right;\">\n",
       "      <th></th>\n",
       "      <th>alpha_1</th>\n",
       "      <th>alpha_2</th>\n",
       "      <th>alpha_3</th>\n",
       "      <th>beta_1</th>\n",
       "      <th>beta_2</th>\n",
       "      <th>beta_3</th>\n",
       "      <th>gamma_1</th>\n",
       "      <th>gamma_2</th>\n",
       "      <th>gamma_3</th>\n",
       "      <th>theta</th>\n",
       "      <th>noise</th>\n",
       "      <th>Particle</th>\n",
       "    </tr>\n",
       "  </thead>\n",
       "  <tbody>\n",
       "    <tr>\n",
       "      <th>0</th>\n",
       "      <td>NaN</td>\n",
       "      <td>-59.730861</td>\n",
       "      <td>396.928620</td>\n",
       "      <td>9.761703</td>\n",
       "      <td>-137.558889</td>\n",
       "      <td>159.598109</td>\n",
       "      <td>-137.558889</td>\n",
       "      <td>53.930955</td>\n",
       "      <td>154.713810</td>\n",
       "      <td>-232.436087</td>\n",
       "      <td>99.243140</td>\n",
       "      <td>3</td>\n",
       "    </tr>\n",
       "    <tr>\n",
       "      <th>1</th>\n",
       "      <td>147.781782</td>\n",
       "      <td>153.729532</td>\n",
       "      <td>111.998962</td>\n",
       "      <td>-174.941235</td>\n",
       "      <td>-97.888332</td>\n",
       "      <td>26.493593</td>\n",
       "      <td>-97.888332</td>\n",
       "      <td>-30.506871</td>\n",
       "      <td>-166.347802</td>\n",
       "      <td>-195.010710</td>\n",
       "      <td>20.242743</td>\n",
       "      <td>0</td>\n",
       "    </tr>\n",
       "    <tr>\n",
       "      <th>2</th>\n",
       "      <td>242.220616</td>\n",
       "      <td>82.947635</td>\n",
       "      <td>-102.073856</td>\n",
       "      <td>116.334349</td>\n",
       "      <td>-101.746729</td>\n",
       "      <td>176.452823</td>\n",
       "      <td>-101.746729</td>\n",
       "      <td>-33.419984</td>\n",
       "      <td>44.082548</td>\n",
       "      <td>-173.928682</td>\n",
       "      <td>3.806943</td>\n",
       "      <td>1</td>\n",
       "    </tr>\n",
       "    <tr>\n",
       "      <th>3</th>\n",
       "      <td>140.542086</td>\n",
       "      <td>-110.129037</td>\n",
       "      <td>215.560355</td>\n",
       "      <td>-11.927860</td>\n",
       "      <td>-11.257902</td>\n",
       "      <td>21.648833</td>\n",
       "      <td>-11.257902</td>\n",
       "      <td>240.685680</td>\n",
       "      <td>133.441269</td>\n",
       "      <td>-276.382025</td>\n",
       "      <td>0.336025</td>\n",
       "      <td>0</td>\n",
       "    </tr>\n",
       "    <tr>\n",
       "      <th>4</th>\n",
       "      <td>169.367809</td>\n",
       "      <td>-92.182925</td>\n",
       "      <td>159.995515</td>\n",
       "      <td>-272.230740</td>\n",
       "      <td>-80.483153</td>\n",
       "      <td>-97.698901</td>\n",
       "      <td>-80.483153</td>\n",
       "      <td>16.251613</td>\n",
       "      <td>-13.177148</td>\n",
       "      <td>-100.316959</td>\n",
       "      <td>24.459551</td>\n",
       "      <td>0</td>\n",
       "    </tr>\n",
       "  </tbody>\n",
       "</table>\n",
       "</div>"
      ],
      "text/plain": [
       "      alpha_1     alpha_2     alpha_3      beta_1      beta_2      beta_3  \\\n",
       "0         NaN  -59.730861  396.928620    9.761703 -137.558889  159.598109   \n",
       "1  147.781782  153.729532  111.998962 -174.941235  -97.888332   26.493593   \n",
       "2  242.220616   82.947635 -102.073856  116.334349 -101.746729  176.452823   \n",
       "3  140.542086 -110.129037  215.560355  -11.927860  -11.257902   21.648833   \n",
       "4  169.367809  -92.182925  159.995515 -272.230740  -80.483153  -97.698901   \n",
       "\n",
       "      gamma_1     gamma_2     gamma_3       theta      noise  Particle  \n",
       "0 -137.558889   53.930955  154.713810 -232.436087  99.243140         3  \n",
       "1  -97.888332  -30.506871 -166.347802 -195.010710  20.242743         0  \n",
       "2 -101.746729  -33.419984   44.082548 -173.928682   3.806943         1  \n",
       "3  -11.257902  240.685680  133.441269 -276.382025   0.336025         0  \n",
       "4  -80.483153   16.251613  -13.177148 -100.316959  24.459551         0  "
      ]
     },
     "execution_count": 6,
     "metadata": {},
     "output_type": "execute_result"
    }
   ],
   "source": [
    "import pandas as pd\n",
    "df = pd.read_csv('particles.csv')\n",
    "df.head()"
   ]
  },
  {
   "cell_type": "code",
   "execution_count": 42,
   "id": "caring-retailer",
   "metadata": {},
   "outputs": [
    {
     "data": {
      "text/html": [
       "<div>\n",
       "<style scoped>\n",
       "    .dataframe tbody tr th:only-of-type {\n",
       "        vertical-align: middle;\n",
       "    }\n",
       "\n",
       "    .dataframe tbody tr th {\n",
       "        vertical-align: top;\n",
       "    }\n",
       "\n",
       "    .dataframe thead th {\n",
       "        text-align: right;\n",
       "    }\n",
       "</style>\n",
       "<table border=\"1\" class=\"dataframe\">\n",
       "  <thead>\n",
       "    <tr style=\"text-align: right;\">\n",
       "      <th></th>\n",
       "      <th>count</th>\n",
       "      <th>mean</th>\n",
       "      <th>std</th>\n",
       "      <th>min</th>\n",
       "      <th>25%</th>\n",
       "      <th>50%</th>\n",
       "      <th>75%</th>\n",
       "      <th>max</th>\n",
       "    </tr>\n",
       "  </thead>\n",
       "  <tbody>\n",
       "    <tr>\n",
       "      <th>alpha_1</th>\n",
       "      <td>109132.0</td>\n",
       "      <td>-10.713873</td>\n",
       "      <td>152.987128</td>\n",
       "      <td>-779.841923</td>\n",
       "      <td>-118.765902</td>\n",
       "      <td>-0.787086</td>\n",
       "      <td>101.815933</td>\n",
       "      <td>698.044837</td>\n",
       "    </tr>\n",
       "    <tr>\n",
       "      <th>alpha_2</th>\n",
       "      <td>127321.0</td>\n",
       "      <td>-0.270224</td>\n",
       "      <td>100.044696</td>\n",
       "      <td>-391.102365</td>\n",
       "      <td>-68.036224</td>\n",
       "      <td>-0.112444</td>\n",
       "      <td>66.895676</td>\n",
       "      <td>444.209708</td>\n",
       "    </tr>\n",
       "    <tr>\n",
       "      <th>alpha_3</th>\n",
       "      <td>127321.0</td>\n",
       "      <td>49.546923</td>\n",
       "      <td>221.503776</td>\n",
       "      <td>-1263.945127</td>\n",
       "      <td>-102.428650</td>\n",
       "      <td>48.483502</td>\n",
       "      <td>198.157415</td>\n",
       "      <td>1383.265329</td>\n",
       "    </tr>\n",
       "    <tr>\n",
       "      <th>beta_1</th>\n",
       "      <td>127321.0</td>\n",
       "      <td>7.508049</td>\n",
       "      <td>164.993428</td>\n",
       "      <td>-701.930722</td>\n",
       "      <td>-109.328232</td>\n",
       "      <td>6.053932</td>\n",
       "      <td>123.154096</td>\n",
       "      <td>666.078562</td>\n",
       "    </tr>\n",
       "    <tr>\n",
       "      <th>beta_2</th>\n",
       "      <td>127131.0</td>\n",
       "      <td>46.853638</td>\n",
       "      <td>160.134335</td>\n",
       "      <td>-655.626984</td>\n",
       "      <td>-59.311413</td>\n",
       "      <td>55.785954</td>\n",
       "      <td>155.939039</td>\n",
       "      <td>726.063419</td>\n",
       "    </tr>\n",
       "    <tr>\n",
       "      <th>beta_3</th>\n",
       "      <td>127206.0</td>\n",
       "      <td>0.451485</td>\n",
       "      <td>99.979061</td>\n",
       "      <td>-448.118855</td>\n",
       "      <td>-66.838936</td>\n",
       "      <td>0.571383</td>\n",
       "      <td>67.675433</td>\n",
       "      <td>448.925730</td>\n",
       "    </tr>\n",
       "    <tr>\n",
       "      <th>gamma_1</th>\n",
       "      <td>127321.0</td>\n",
       "      <td>46.845556</td>\n",
       "      <td>160.142626</td>\n",
       "      <td>-655.626984</td>\n",
       "      <td>-59.320379</td>\n",
       "      <td>55.772838</td>\n",
       "      <td>155.939228</td>\n",
       "      <td>726.063419</td>\n",
       "    </tr>\n",
       "    <tr>\n",
       "      <th>gamma_2</th>\n",
       "      <td>126594.0</td>\n",
       "      <td>-0.040888</td>\n",
       "      <td>99.797656</td>\n",
       "      <td>-435.684650</td>\n",
       "      <td>-67.011881</td>\n",
       "      <td>-0.265758</td>\n",
       "      <td>66.893239</td>\n",
       "      <td>544.546234</td>\n",
       "    </tr>\n",
       "    <tr>\n",
       "      <th>gamma_3</th>\n",
       "      <td>117897.0</td>\n",
       "      <td>-20.881407</td>\n",
       "      <td>160.637008</td>\n",
       "      <td>-719.937495</td>\n",
       "      <td>-133.157334</td>\n",
       "      <td>-14.309868</td>\n",
       "      <td>95.426099</td>\n",
       "      <td>682.413287</td>\n",
       "    </tr>\n",
       "    <tr>\n",
       "      <th>theta</th>\n",
       "      <td>126595.0</td>\n",
       "      <td>-61.594057</td>\n",
       "      <td>146.954921</td>\n",
       "      <td>-653.437102</td>\n",
       "      <td>-158.912087</td>\n",
       "      <td>-75.169482</td>\n",
       "      <td>20.771011</td>\n",
       "      <td>689.548943</td>\n",
       "    </tr>\n",
       "    <tr>\n",
       "      <th>noise</th>\n",
       "      <td>127321.0</td>\n",
       "      <td>50.126020</td>\n",
       "      <td>28.848755</td>\n",
       "      <td>0.000390</td>\n",
       "      <td>25.125602</td>\n",
       "      <td>50.213148</td>\n",
       "      <td>75.115084</td>\n",
       "      <td>99.993348</td>\n",
       "    </tr>\n",
       "    <tr>\n",
       "      <th>Particle</th>\n",
       "      <td>127321.0</td>\n",
       "      <td>1.647804</td>\n",
       "      <td>1.470649</td>\n",
       "      <td>0.000000</td>\n",
       "      <td>0.000000</td>\n",
       "      <td>2.000000</td>\n",
       "      <td>2.000000</td>\n",
       "      <td>7.000000</td>\n",
       "    </tr>\n",
       "  </tbody>\n",
       "</table>\n",
       "</div>"
      ],
      "text/plain": [
       "             count       mean         std          min         25%        50%  \\\n",
       "alpha_1   109132.0 -10.713873  152.987128  -779.841923 -118.765902  -0.787086   \n",
       "alpha_2   127321.0  -0.270224  100.044696  -391.102365  -68.036224  -0.112444   \n",
       "alpha_3   127321.0  49.546923  221.503776 -1263.945127 -102.428650  48.483502   \n",
       "beta_1    127321.0   7.508049  164.993428  -701.930722 -109.328232   6.053932   \n",
       "beta_2    127131.0  46.853638  160.134335  -655.626984  -59.311413  55.785954   \n",
       "beta_3    127206.0   0.451485   99.979061  -448.118855  -66.838936   0.571383   \n",
       "gamma_1   127321.0  46.845556  160.142626  -655.626984  -59.320379  55.772838   \n",
       "gamma_2   126594.0  -0.040888   99.797656  -435.684650  -67.011881  -0.265758   \n",
       "gamma_3   117897.0 -20.881407  160.637008  -719.937495 -133.157334 -14.309868   \n",
       "theta     126595.0 -61.594057  146.954921  -653.437102 -158.912087 -75.169482   \n",
       "noise     127321.0  50.126020   28.848755     0.000390   25.125602  50.213148   \n",
       "Particle  127321.0   1.647804    1.470649     0.000000    0.000000   2.000000   \n",
       "\n",
       "                 75%          max  \n",
       "alpha_1   101.815933   698.044837  \n",
       "alpha_2    66.895676   444.209708  \n",
       "alpha_3   198.157415  1383.265329  \n",
       "beta_1    123.154096   666.078562  \n",
       "beta_2    155.939039   726.063419  \n",
       "beta_3     67.675433   448.925730  \n",
       "gamma_1   155.939228   726.063419  \n",
       "gamma_2    66.893239   544.546234  \n",
       "gamma_3    95.426099   682.413287  \n",
       "theta      20.771011   689.548943  \n",
       "noise      75.115084    99.993348  \n",
       "Particle    2.000000     7.000000  "
      ]
     },
     "execution_count": 42,
     "metadata": {},
     "output_type": "execute_result"
    }
   ],
   "source": [
    "desc_df = df.describe().T ; desc_df"
   ]
  },
  {
   "cell_type": "code",
   "execution_count": 43,
   "id": "electronic-technical",
   "metadata": {},
   "outputs": [
    {
     "data": {
      "text/html": [
       "<div>\n",
       "<style scoped>\n",
       "    .dataframe tbody tr th:only-of-type {\n",
       "        vertical-align: middle;\n",
       "    }\n",
       "\n",
       "    .dataframe tbody tr th {\n",
       "        vertical-align: top;\n",
       "    }\n",
       "\n",
       "    .dataframe thead th {\n",
       "        text-align: right;\n",
       "    }\n",
       "</style>\n",
       "<table border=\"1\" class=\"dataframe\">\n",
       "  <thead>\n",
       "    <tr style=\"text-align: right;\">\n",
       "      <th></th>\n",
       "      <th>count</th>\n",
       "      <th>mean</th>\n",
       "      <th>std</th>\n",
       "      <th>min</th>\n",
       "      <th>25%</th>\n",
       "      <th>50%</th>\n",
       "      <th>75%</th>\n",
       "      <th>max</th>\n",
       "      <th>IQR15</th>\n",
       "      <th>IQR3</th>\n",
       "    </tr>\n",
       "  </thead>\n",
       "  <tbody>\n",
       "    <tr>\n",
       "      <th>alpha_1</th>\n",
       "      <td>109132.0</td>\n",
       "      <td>-10.713873</td>\n",
       "      <td>152.987128</td>\n",
       "      <td>-779.841923</td>\n",
       "      <td>-118.765902</td>\n",
       "      <td>-0.787086</td>\n",
       "      <td>101.815933</td>\n",
       "      <td>698.044837</td>\n",
       "      <td>330.872753</td>\n",
       "      <td>661.745505</td>\n",
       "    </tr>\n",
       "    <tr>\n",
       "      <th>alpha_2</th>\n",
       "      <td>127321.0</td>\n",
       "      <td>-0.270224</td>\n",
       "      <td>100.044696</td>\n",
       "      <td>-391.102365</td>\n",
       "      <td>-68.036224</td>\n",
       "      <td>-0.112444</td>\n",
       "      <td>66.895676</td>\n",
       "      <td>444.209708</td>\n",
       "      <td>202.397850</td>\n",
       "      <td>404.795700</td>\n",
       "    </tr>\n",
       "    <tr>\n",
       "      <th>alpha_3</th>\n",
       "      <td>127321.0</td>\n",
       "      <td>49.546923</td>\n",
       "      <td>221.503776</td>\n",
       "      <td>-1263.945127</td>\n",
       "      <td>-102.428650</td>\n",
       "      <td>48.483502</td>\n",
       "      <td>198.157415</td>\n",
       "      <td>1383.265329</td>\n",
       "      <td>450.879097</td>\n",
       "      <td>901.758193</td>\n",
       "    </tr>\n",
       "    <tr>\n",
       "      <th>beta_1</th>\n",
       "      <td>127321.0</td>\n",
       "      <td>7.508049</td>\n",
       "      <td>164.993428</td>\n",
       "      <td>-701.930722</td>\n",
       "      <td>-109.328232</td>\n",
       "      <td>6.053932</td>\n",
       "      <td>123.154096</td>\n",
       "      <td>666.078562</td>\n",
       "      <td>348.723491</td>\n",
       "      <td>697.446982</td>\n",
       "    </tr>\n",
       "    <tr>\n",
       "      <th>beta_2</th>\n",
       "      <td>127131.0</td>\n",
       "      <td>46.853638</td>\n",
       "      <td>160.134335</td>\n",
       "      <td>-655.626984</td>\n",
       "      <td>-59.311413</td>\n",
       "      <td>55.785954</td>\n",
       "      <td>155.939039</td>\n",
       "      <td>726.063419</td>\n",
       "      <td>322.875677</td>\n",
       "      <td>645.751355</td>\n",
       "    </tr>\n",
       "    <tr>\n",
       "      <th>beta_3</th>\n",
       "      <td>127206.0</td>\n",
       "      <td>0.451485</td>\n",
       "      <td>99.979061</td>\n",
       "      <td>-448.118855</td>\n",
       "      <td>-66.838936</td>\n",
       "      <td>0.571383</td>\n",
       "      <td>67.675433</td>\n",
       "      <td>448.925730</td>\n",
       "      <td>201.771554</td>\n",
       "      <td>403.543109</td>\n",
       "    </tr>\n",
       "    <tr>\n",
       "      <th>gamma_1</th>\n",
       "      <td>127321.0</td>\n",
       "      <td>46.845556</td>\n",
       "      <td>160.142626</td>\n",
       "      <td>-655.626984</td>\n",
       "      <td>-59.320379</td>\n",
       "      <td>55.772838</td>\n",
       "      <td>155.939228</td>\n",
       "      <td>726.063419</td>\n",
       "      <td>322.889411</td>\n",
       "      <td>645.778822</td>\n",
       "    </tr>\n",
       "    <tr>\n",
       "      <th>gamma_2</th>\n",
       "      <td>126594.0</td>\n",
       "      <td>-0.040888</td>\n",
       "      <td>99.797656</td>\n",
       "      <td>-435.684650</td>\n",
       "      <td>-67.011881</td>\n",
       "      <td>-0.265758</td>\n",
       "      <td>66.893239</td>\n",
       "      <td>544.546234</td>\n",
       "      <td>200.857680</td>\n",
       "      <td>401.715359</td>\n",
       "    </tr>\n",
       "    <tr>\n",
       "      <th>gamma_3</th>\n",
       "      <td>117897.0</td>\n",
       "      <td>-20.881407</td>\n",
       "      <td>160.637008</td>\n",
       "      <td>-719.937495</td>\n",
       "      <td>-133.157334</td>\n",
       "      <td>-14.309868</td>\n",
       "      <td>95.426099</td>\n",
       "      <td>682.413287</td>\n",
       "      <td>342.875151</td>\n",
       "      <td>685.750301</td>\n",
       "    </tr>\n",
       "    <tr>\n",
       "      <th>theta</th>\n",
       "      <td>126595.0</td>\n",
       "      <td>-61.594057</td>\n",
       "      <td>146.954921</td>\n",
       "      <td>-653.437102</td>\n",
       "      <td>-158.912087</td>\n",
       "      <td>-75.169482</td>\n",
       "      <td>20.771011</td>\n",
       "      <td>689.548943</td>\n",
       "      <td>269.524647</td>\n",
       "      <td>539.049294</td>\n",
       "    </tr>\n",
       "    <tr>\n",
       "      <th>noise</th>\n",
       "      <td>127321.0</td>\n",
       "      <td>50.126020</td>\n",
       "      <td>28.848755</td>\n",
       "      <td>0.000390</td>\n",
       "      <td>25.125602</td>\n",
       "      <td>50.213148</td>\n",
       "      <td>75.115084</td>\n",
       "      <td>99.993348</td>\n",
       "      <td>74.984224</td>\n",
       "      <td>149.968447</td>\n",
       "    </tr>\n",
       "    <tr>\n",
       "      <th>Particle</th>\n",
       "      <td>127321.0</td>\n",
       "      <td>1.647804</td>\n",
       "      <td>1.470649</td>\n",
       "      <td>0.000000</td>\n",
       "      <td>0.000000</td>\n",
       "      <td>2.000000</td>\n",
       "      <td>2.000000</td>\n",
       "      <td>7.000000</td>\n",
       "      <td>3.000000</td>\n",
       "      <td>6.000000</td>\n",
       "    </tr>\n",
       "  </tbody>\n",
       "</table>\n",
       "</div>"
      ],
      "text/plain": [
       "             count       mean         std          min         25%        50%  \\\n",
       "alpha_1   109132.0 -10.713873  152.987128  -779.841923 -118.765902  -0.787086   \n",
       "alpha_2   127321.0  -0.270224  100.044696  -391.102365  -68.036224  -0.112444   \n",
       "alpha_3   127321.0  49.546923  221.503776 -1263.945127 -102.428650  48.483502   \n",
       "beta_1    127321.0   7.508049  164.993428  -701.930722 -109.328232   6.053932   \n",
       "beta_2    127131.0  46.853638  160.134335  -655.626984  -59.311413  55.785954   \n",
       "beta_3    127206.0   0.451485   99.979061  -448.118855  -66.838936   0.571383   \n",
       "gamma_1   127321.0  46.845556  160.142626  -655.626984  -59.320379  55.772838   \n",
       "gamma_2   126594.0  -0.040888   99.797656  -435.684650  -67.011881  -0.265758   \n",
       "gamma_3   117897.0 -20.881407  160.637008  -719.937495 -133.157334 -14.309868   \n",
       "theta     126595.0 -61.594057  146.954921  -653.437102 -158.912087 -75.169482   \n",
       "noise     127321.0  50.126020   28.848755     0.000390   25.125602  50.213148   \n",
       "Particle  127321.0   1.647804    1.470649     0.000000    0.000000   2.000000   \n",
       "\n",
       "                 75%          max       IQR15        IQR3  \n",
       "alpha_1   101.815933   698.044837  330.872753  661.745505  \n",
       "alpha_2    66.895676   444.209708  202.397850  404.795700  \n",
       "alpha_3   198.157415  1383.265329  450.879097  901.758193  \n",
       "beta_1    123.154096   666.078562  348.723491  697.446982  \n",
       "beta_2    155.939039   726.063419  322.875677  645.751355  \n",
       "beta_3     67.675433   448.925730  201.771554  403.543109  \n",
       "gamma_1   155.939228   726.063419  322.889411  645.778822  \n",
       "gamma_2    66.893239   544.546234  200.857680  401.715359  \n",
       "gamma_3    95.426099   682.413287  342.875151  685.750301  \n",
       "theta      20.771011   689.548943  269.524647  539.049294  \n",
       "noise      75.115084    99.993348   74.984224  149.968447  \n",
       "Particle    2.000000     7.000000    3.000000    6.000000  "
      ]
     },
     "execution_count": 43,
     "metadata": {},
     "output_type": "execute_result"
    }
   ],
   "source": [
    "desc_df['IQR15'] = (desc_df['75%'] - desc_df['25%']) * 1.5\n",
    "desc_df['IQR3'] = (desc_df['75%'] - desc_df['25%']) * 3\n",
    "desc_df"
   ]
  },
  {
   "cell_type": "code",
   "execution_count": null,
   "id": "pacific-source",
   "metadata": {},
   "outputs": [],
   "source": [
    "df2 = df.copy()\n",
    "for col in df2.columns[:-1]:\n",
    "    df2[col] = map(lambda x: x < desc_df.loc[col, IQR15], df2[col])\n",
    "df2"
   ]
  },
  {
   "cell_type": "code",
   "execution_count": null,
   "id": "analyzed-productivity",
   "metadata": {},
   "outputs": [],
   "source": [
    "def list_outliers(data, columns, n):\n",
    "  outliers = []\n",
    "\n",
    "  for column in columns:\n",
    "    Q1 = np.percentile(df[columns], 25)[0]\n",
    "    Q3 = np.percentile(df[columns], 25)[0]\n",
    "    range = (Q1 - Q3) * 1.5\n",
    "    outliers.extend(df[df[col] < Q1 - range].index)\n",
    "\n",
    "  return outliers\n"
   ]
  },
  {
   "cell_type": "code",
   "execution_count": 44,
   "id": "broke-september",
   "metadata": {},
   "outputs": [],
   "source": [
    "df_sin_outliers = df[df.apply(lambda x: np.abs(x - x.mean()) / x.std() < 3).all(axis=1)]"
   ]
  },
  {
   "cell_type": "code",
   "execution_count": 45,
   "id": "verbal-bridal",
   "metadata": {},
   "outputs": [
    {
     "data": {
      "text/plain": [
       "(92993, 12)"
      ]
     },
     "execution_count": 45,
     "metadata": {},
     "output_type": "execute_result"
    }
   ],
   "source": [
    "df_sin_outliers.shape"
   ]
  },
  {
   "cell_type": "code",
   "execution_count": 12,
   "id": "molecular-peace",
   "metadata": {},
   "outputs": [],
   "source": [
    "import seaborn as sns\n",
    "import numpy as np"
   ]
  },
  {
   "cell_type": "markdown",
   "id": "opposite-establishment",
   "metadata": {},
   "source": [
    "## Vamos a por la metodología de @ten"
   ]
  },
  {
   "cell_type": "markdown",
   "id": "saved-defeat",
   "metadata": {},
   "source": [
    "## Imputación de NaNs : KNNImputer / SimpleImputer"
   ]
  },
  {
   "cell_type": "code",
   "execution_count": 8,
   "id": "dated-english",
   "metadata": {},
   "outputs": [],
   "source": [
    "from sklearn.impute import SimpleImputer, KNNImputer"
   ]
  },
  {
   "cell_type": "code",
   "execution_count": 10,
   "id": "common-payment",
   "metadata": {},
   "outputs": [],
   "source": [
    "X = df.drop('Particle', axis = 1).values\n",
    "y = df['Particle'].values\n",
    "X2 = X.copy()\n"
   ]
  },
  {
   "cell_type": "code",
   "execution_count": 13,
   "id": "impressive-antique",
   "metadata": {},
   "outputs": [
    {
     "data": {
      "text/plain": [
       "array([[ -10.71387284,  -59.73086055,  396.9286195 , ...,  154.7138098 ,\n",
       "        -232.436087  ,   99.24314002],\n",
       "       [ 147.781782  ,  153.7295321 ,  111.9989619 , ..., -166.347802  ,\n",
       "        -195.0107097 ,   20.24274254],\n",
       "       [ 242.2206162 ,   82.94763513, -102.0738557 , ...,   44.08254758,\n",
       "        -173.9286818 ,    3.80694306],\n",
       "       ...,\n",
       "       [ 266.8573396 ,  186.8454992 ,  128.1751268 , ...,  268.6035068 ,\n",
       "        -366.8080677 ,   41.30545592],\n",
       "       [ 205.9354286 ,  121.787993  , -209.7446099 , ...,   32.92457496,\n",
       "          51.39223812,    1.47119688],\n",
       "       [ -13.62257909,  -46.14998222,  173.0931891 , ...,  -20.88140689,\n",
       "         -98.86222845,   16.81836048]])"
      ]
     },
     "execution_count": 13,
     "metadata": {},
     "output_type": "execute_result"
    }
   ],
   "source": [
    "imputer_mean = SimpleImputer(missing_values = np.nan, strategy = 'mean')\n",
    "X_mean = imputer_mean.fit_transform(X)\n",
    "X_mean"
   ]
  },
  {
   "cell_type": "code",
   "execution_count": 15,
   "id": "swiss-scholarship",
   "metadata": {},
   "outputs": [
    {
     "data": {
      "text/plain": [
       "array([[-150.40698025,  -59.73086055,  396.9286195 , ...,  154.7138098 ,\n",
       "        -232.436087  ,   99.24314002],\n",
       "       [ 147.781782  ,  153.7295321 ,  111.9989619 , ..., -166.347802  ,\n",
       "        -195.0107097 ,   20.24274254],\n",
       "       [ 242.2206162 ,   82.94763513, -102.0738557 , ...,   44.08254758,\n",
       "        -173.9286818 ,    3.80694306],\n",
       "       ...,\n",
       "       [ 266.8573396 ,  186.8454992 ,  128.1751268 , ...,  268.6035068 ,\n",
       "        -366.8080677 ,   41.30545592],\n",
       "       [ 205.9354286 ,  121.787993  , -209.7446099 , ...,   32.92457496,\n",
       "          51.39223812,    1.47119688],\n",
       "       [ -13.62257909,  -46.14998222,  173.0931891 , ...,  -15.4214586 ,\n",
       "         -98.86222845,   16.81836048]])"
      ]
     },
     "execution_count": 15,
     "metadata": {},
     "output_type": "execute_result"
    }
   ],
   "source": [
    "imputer_knn = KNNImputer(missing_values = np.nan, n_neighbors = 5)\n",
    "X_knn = imputer_knn.fit_transform(X)\n",
    "X_knn"
   ]
  },
  {
   "cell_type": "code",
   "execution_count": 16,
   "id": "certain-heart",
   "metadata": {},
   "outputs": [
    {
     "data": {
      "text/plain": [
       "alpha_1     18189\n",
       "alpha_2         0\n",
       "alpha_3         0\n",
       "beta_1          0\n",
       "beta_2        190\n",
       "beta_3        115\n",
       "gamma_1         0\n",
       "gamma_2       727\n",
       "gamma_3      9424\n",
       "theta         726\n",
       "noise           0\n",
       "Particle        0\n",
       "dtype: int64"
      ]
     },
     "execution_count": 16,
     "metadata": {},
     "output_type": "execute_result"
    }
   ],
   "source": [
    "df.isnull().sum()\n"
   ]
  },
  {
   "cell_type": "code",
   "execution_count": 23,
   "id": "acute-stopping",
   "metadata": {},
   "outputs": [],
   "source": [
    "from sklearn.metrics import f1_score, classification_report, confusion_matrix\n",
    "from sklearn.ensemble import RandomForestClassifier\n",
    "from sklearn.neighbors import KNeighborsClassifier\n",
    "from sklearn.model_selection import train_test_split"
   ]
  },
  {
   "cell_type": "code",
   "execution_count": 21,
   "id": "textile-roller",
   "metadata": {},
   "outputs": [],
   "source": [
    "RANDOM_STATE = 666"
   ]
  },
  {
   "cell_type": "code",
   "execution_count": 26,
   "id": "novel-helmet",
   "metadata": {},
   "outputs": [],
   "source": [
    "X_m_train, X_m_test, y_m_train, y_m_test = train_test_split(X_mean, y, test_size = 0.5, random_state = RANDOM_STATE, shuffle = True)\n",
    "X_knn_train, X_knn_test, y_knn_train, y_knn_test = train_test_split(X_knn, y, test_size = 0.5, random_state = RANDOM_STATE, shuffle = True)"
   ]
  },
  {
   "cell_type": "code",
   "execution_count": 33,
   "id": "average-stage",
   "metadata": {},
   "outputs": [
    {
     "data": {
      "text/plain": [
       "RandomForestClassifier(n_jobs=-1, random_state=666)"
      ]
     },
     "execution_count": 33,
     "metadata": {},
     "output_type": "execute_result"
    }
   ],
   "source": [
    "quickRF = RandomForestClassifier(random_state = RANDOM_STATE, n_jobs = -1)\n",
    "quickRF_knn = RandomForestClassifier(random_state = RANDOM_STATE, n_jobs = -1)\n",
    "quickRF.fit(X_m_train, y_m_train)\n",
    "quickRF_knn.fit(X_knn_train, y_knn_train)"
   ]
  },
  {
   "cell_type": "code",
   "execution_count": 34,
   "id": "configured-lebanon",
   "metadata": {},
   "outputs": [
    {
     "name": "stdout",
     "output_type": "stream",
     "text": [
      "f1_mean : 0.5214484509073328  \n",
      "f1 knn : 0.5351386815266823\n"
     ]
    }
   ],
   "source": [
    "preds_mean = quickRF.predict(X_m_test)\n",
    "preds_knn = quickRF_knn.predict(X_knn_test)\n",
    "\n",
    "f1_mean = f1_score(y_m_test, preds_mean, average = 'macro')\n",
    "f1_knn = f1_score(y_knn_test, preds_knn, average = 'macro')\n",
    "\n",
    "print(f'f1_mean : {f1_mean}  \\nf1 knn : {f1_knn}')"
   ]
  },
  {
   "cell_type": "code",
   "execution_count": 35,
   "id": "closing-projector",
   "metadata": {},
   "outputs": [
    {
     "name": "stdout",
     "output_type": "stream",
     "text": [
      "              precision    recall  f1-score   support\n",
      "\n",
      "           0       0.88      0.82      0.85     17244\n",
      "           1       0.75      0.76      0.76     13483\n",
      "           2       0.88      0.80      0.84     23238\n",
      "           3       0.74      0.75      0.75      8754\n",
      "           4       0.07      0.71      0.13        86\n",
      "           5       0.23      0.80      0.36       326\n",
      "           6       0.03      0.91      0.07        22\n",
      "           7       0.28      0.81      0.42       508\n",
      "\n",
      "    accuracy                           0.79     63661\n",
      "   macro avg       0.49      0.80      0.52     63661\n",
      "weighted avg       0.83      0.79      0.81     63661\n",
      "\n"
     ]
    }
   ],
   "source": [
    "print(classification_report(preds_mean, y_m_test))"
   ]
  },
  {
   "cell_type": "code",
   "execution_count": 36,
   "id": "wanted-commonwealth",
   "metadata": {},
   "outputs": [
    {
     "name": "stdout",
     "output_type": "stream",
     "text": [
      "              precision    recall  f1-score   support\n",
      "\n",
      "           0       0.89      0.83      0.86     17298\n",
      "           1       0.76      0.78      0.77     13388\n",
      "           2       0.89      0.81      0.85     23073\n",
      "           3       0.76      0.76      0.76      8859\n",
      "           4       0.06      0.60      0.11        86\n",
      "           5       0.27      0.79      0.40       381\n",
      "           6       0.05      0.87      0.09        31\n",
      "           7       0.31      0.83      0.45       545\n",
      "\n",
      "    accuracy                           0.80     63661\n",
      "   macro avg       0.50      0.78      0.54     63661\n",
      "weighted avg       0.83      0.80      0.81     63661\n",
      "\n"
     ]
    }
   ],
   "source": [
    "print(classification_report(preds_knn, y_knn_test))"
   ]
  },
  {
   "cell_type": "code",
   "execution_count": 37,
   "id": "southern-light",
   "metadata": {},
   "outputs": [
    {
     "data": {
      "text/plain": [
       "2    0.330346\n",
       "0    0.252881\n",
       "1    0.214733\n",
       "3    0.139231\n",
       "7    0.022416\n",
       "5    0.017821\n",
       "4    0.013383\n",
       "6    0.009189\n",
       "Name: Particle, dtype: float64"
      ]
     },
     "execution_count": 37,
     "metadata": {},
     "output_type": "execute_result"
    }
   ],
   "source": [
    "df['Particle'].value_counts()/len(df)"
   ]
  },
  {
   "cell_type": "code",
   "execution_count": 39,
   "id": "confidential-appendix",
   "metadata": {},
   "outputs": [],
   "source": [
    "from imblearn.over_sampling import SMOTE"
   ]
  },
  {
   "cell_type": "code",
   "execution_count": 40,
   "id": "baking-mirror",
   "metadata": {},
   "outputs": [],
   "source": [
    "X_resampled, y_resampled = SMOTE(random_state = RANDOM_STATE).fit_resample(X_knn_train, y_knn_train)"
   ]
  },
  {
   "cell_type": "code",
   "execution_count": 51,
   "id": "remarkable-contract",
   "metadata": {},
   "outputs": [
    {
     "data": {
      "text/plain": [
       "array([21057, 21057, 21057, 21057, 21057, 21057, 21057, 21057])"
      ]
     },
     "execution_count": 51,
     "metadata": {},
     "output_type": "execute_result"
    }
   ],
   "source": [
    "np.bincount(y_resampled)"
   ]
  },
  {
   "cell_type": "code",
   "execution_count": 41,
   "id": "passive-cuisine",
   "metadata": {},
   "outputs": [
    {
     "name": "stdout",
     "output_type": "stream",
     "text": [
      "              precision    recall  f1-score   support\n",
      "\n",
      "           0       0.86      0.84      0.85     16456\n",
      "           1       0.74      0.77      0.76     13281\n",
      "           2       0.81      0.85      0.83     19970\n",
      "           3       0.79      0.72      0.76      9680\n",
      "           4       0.25      0.22      0.23       948\n",
      "           5       0.48      0.43      0.46      1276\n",
      "           6       0.13      0.15      0.14       478\n",
      "           7       0.50      0.46      0.48      1572\n",
      "\n",
      "    accuracy                           0.78     63661\n",
      "   macro avg       0.57      0.56      0.56     63661\n",
      "weighted avg       0.78      0.78      0.78     63661\n",
      "\n"
     ]
    }
   ],
   "source": [
    "quickRF_knn.fit(X_resampled, y_resampled)\n",
    "preds_knn_resampled = quickRF_knn.predict(X_knn_test)\n",
    "print(classification_report(preds_knn_resampled, y_knn_test))"
   ]
  },
  {
   "cell_type": "markdown",
   "id": "experimental-small",
   "metadata": {},
   "source": [
    "## Vamos a hacer pruebas con las tablas con los outliers eliminados"
   ]
  },
  {
   "cell_type": "code",
   "execution_count": 46,
   "id": "ultimate-carroll",
   "metadata": {},
   "outputs": [
    {
     "data": {
      "text/plain": [
       "2    0.336778\n",
       "0    0.261740\n",
       "1    0.220232\n",
       "3    0.140892\n",
       "5    0.017840\n",
       "4    0.013281\n",
       "6    0.009237\n",
       "Name: Particle, dtype: float64"
      ]
     },
     "execution_count": 46,
     "metadata": {},
     "output_type": "execute_result"
    }
   ],
   "source": [
    "df_sin_outliers['Particle'].value_counts()/len(df_sin_outliers)"
   ]
  },
  {
   "cell_type": "code",
   "execution_count": 47,
   "id": "loved-nevada",
   "metadata": {},
   "outputs": [
    {
     "data": {
      "text/plain": [
       "alpha_1    -0.215904\n",
       "alpha_2     0.015081\n",
       "alpha_3     0.082744\n",
       "beta_1      0.038078\n",
       "beta_2     -0.157279\n",
       "beta_3     -0.008261\n",
       "gamma_1    -0.157151\n",
       "gamma_2     0.003208\n",
       "gamma_3    -0.148602\n",
       "theta       0.519259\n",
       "noise      -0.004599\n",
       "Particle    1.323202\n",
       "dtype: float64"
      ]
     },
     "execution_count": 47,
     "metadata": {},
     "output_type": "execute_result"
    }
   ],
   "source": [
    "df.skew()"
   ]
  },
  {
   "cell_type": "code",
   "execution_count": 48,
   "id": "distributed-rogers",
   "metadata": {},
   "outputs": [
    {
     "data": {
      "text/plain": [
       "alpha_1     0.030876\n",
       "alpha_2     0.003913\n",
       "alpha_3     0.087617\n",
       "beta_1     -0.239469\n",
       "beta_2     -0.007649\n",
       "beta_3      0.014238\n",
       "gamma_1    -0.008135\n",
       "gamma_2     0.051554\n",
       "gamma_3    -0.151476\n",
       "theta       0.735316\n",
       "noise      -1.200904\n",
       "Particle    2.713274\n",
       "dtype: float64"
      ]
     },
     "execution_count": 48,
     "metadata": {},
     "output_type": "execute_result"
    }
   ],
   "source": [
    "df.kurtosis()"
   ]
  },
  {
   "cell_type": "code",
   "execution_count": 49,
   "id": "automated-tunisia",
   "metadata": {},
   "outputs": [
    {
     "data": {
      "text/plain": [
       "<AxesSubplot:>"
      ]
     },
     "execution_count": 49,
     "metadata": {},
     "output_type": "execute_result"
    },
    {
     "data": {
      "image/png": "[encoded data removed]",
      "text/plain": [
       "<Figure size 432x288 with 1 Axes>"
      ]
     },
     "metadata": {
      "needs_background": "light"
     },
     "output_type": "display_data"
    }
   ],
   "source": [
    "df['theta'].hist(bins = 100)"
   ]
  },
  {
   "cell_type": "code",
   "execution_count": 50,
   "id": "dressed-judges",
   "metadata": {},
   "outputs": [
    {
     "name": "stdout",
     "output_type": "stream",
     "text": [
      "              precision    recall  f1-score   support\n",
      "\n",
      "           0       0.91      0.85      0.87     13049\n",
      "           1       0.76      0.79      0.78      9939\n",
      "           2       0.89      0.83      0.86     16707\n",
      "           3       0.76      0.78      0.77      6410\n",
      "           4       0.08      0.68      0.15        77\n",
      "           5       0.29      0.78      0.42       298\n",
      "           6       0.03      0.88      0.06        17\n",
      "\n",
      "    accuracy                           0.82     46497\n",
      "   macro avg       0.53      0.80      0.56     46497\n",
      "weighted avg       0.84      0.82      0.83     46497\n",
      "\n"
     ]
    }
   ],
   "source": [
    "X_s = df_sin_outliers.drop('Particle', axis = 1).values\n",
    "y_s = df_sin_outliers['Particle'].values\n",
    "\n",
    "X_s_train, X_s_test, y_s_train, y_s_test = train_test_split(X_s, y_s, test_size = 0.5, random_state = RANDOM_STATE, shuffle = True)\n",
    "\n",
    "quickRF_s = RandomForestClassifier(random_state = RANDOM_STATE, n_jobs = -1)\n",
    "quickRF_s.fit(X_s_train, y_s_train)\n",
    "preds_s = quickRF_s.predict(X_s_test)\n",
    "print(classification_report(y_s_test, quickRF_s))"
   ]
  },
  {
   "cell_type": "code",
   "execution_count": 52,
   "id": "north-patent",
   "metadata": {},
   "outputs": [
    {
     "data": {
      "text/plain": [
       "array([0.21104624, 0.03444375, 0.09011553, 0.12139748, 0.08292944,\n",
       "       0.03446576, 0.08681005, 0.034816  , 0.14737437, 0.12214949,\n",
       "       0.03445189])"
      ]
     },
     "execution_count": 52,
     "metadata": {},
     "output_type": "execute_result"
    }
   ],
   "source": [
    "quickRF_s.feature_importances_"
   ]
  },
  {
   "cell_type": "code",
   "execution_count": 54,
   "id": "scenic-commitment",
   "metadata": {},
   "outputs": [
    {
     "data": {
      "text/html": [
       "<div>\n",
       "<style scoped>\n",
       "    .dataframe tbody tr th:only-of-type {\n",
       "        vertical-align: middle;\n",
       "    }\n",
       "\n",
       "    .dataframe tbody tr th {\n",
       "        vertical-align: top;\n",
       "    }\n",
       "\n",
       "    .dataframe thead th {\n",
       "        text-align: right;\n",
       "    }\n",
       "</style>\n",
       "<table border=\"1\" class=\"dataframe\">\n",
       "  <thead>\n",
       "    <tr style=\"text-align: right;\">\n",
       "      <th></th>\n",
       "      <th>alpha_1</th>\n",
       "      <th>alpha_2</th>\n",
       "      <th>alpha_3</th>\n",
       "      <th>beta_1</th>\n",
       "      <th>beta_2</th>\n",
       "      <th>beta_3</th>\n",
       "      <th>gamma_1</th>\n",
       "      <th>gamma_2</th>\n",
       "      <th>gamma_3</th>\n",
       "      <th>theta</th>\n",
       "      <th>noise</th>\n",
       "    </tr>\n",
       "  </thead>\n",
       "  <tbody>\n",
       "    <tr>\n",
       "      <th>0</th>\n",
       "      <td>-150.406980</td>\n",
       "      <td>-59.730861</td>\n",
       "      <td>396.928620</td>\n",
       "      <td>9.761703</td>\n",
       "      <td>-137.558889</td>\n",
       "      <td>159.598109</td>\n",
       "      <td>-137.558889</td>\n",
       "      <td>53.930955</td>\n",
       "      <td>154.713810</td>\n",
       "      <td>-232.436087</td>\n",
       "      <td>99.243140</td>\n",
       "    </tr>\n",
       "    <tr>\n",
       "      <th>1</th>\n",
       "      <td>147.781782</td>\n",
       "      <td>153.729532</td>\n",
       "      <td>111.998962</td>\n",
       "      <td>-174.941235</td>\n",
       "      <td>-97.888332</td>\n",
       "      <td>26.493593</td>\n",
       "      <td>-97.888332</td>\n",
       "      <td>-30.506871</td>\n",
       "      <td>-166.347802</td>\n",
       "      <td>-195.010710</td>\n",
       "      <td>20.242743</td>\n",
       "    </tr>\n",
       "    <tr>\n",
       "      <th>2</th>\n",
       "      <td>242.220616</td>\n",
       "      <td>82.947635</td>\n",
       "      <td>-102.073856</td>\n",
       "      <td>116.334349</td>\n",
       "      <td>-101.746729</td>\n",
       "      <td>176.452823</td>\n",
       "      <td>-101.746729</td>\n",
       "      <td>-33.419984</td>\n",
       "      <td>44.082548</td>\n",
       "      <td>-173.928682</td>\n",
       "      <td>3.806943</td>\n",
       "    </tr>\n",
       "    <tr>\n",
       "      <th>3</th>\n",
       "      <td>140.542086</td>\n",
       "      <td>-110.129037</td>\n",
       "      <td>215.560355</td>\n",
       "      <td>-11.927860</td>\n",
       "      <td>-11.257902</td>\n",
       "      <td>21.648833</td>\n",
       "      <td>-11.257902</td>\n",
       "      <td>240.685680</td>\n",
       "      <td>133.441269</td>\n",
       "      <td>-276.382025</td>\n",
       "      <td>0.336025</td>\n",
       "    </tr>\n",
       "    <tr>\n",
       "      <th>4</th>\n",
       "      <td>169.367809</td>\n",
       "      <td>-92.182925</td>\n",
       "      <td>159.995515</td>\n",
       "      <td>-272.230740</td>\n",
       "      <td>-80.483153</td>\n",
       "      <td>-97.698901</td>\n",
       "      <td>-80.483153</td>\n",
       "      <td>16.251613</td>\n",
       "      <td>-13.177148</td>\n",
       "      <td>-100.316959</td>\n",
       "      <td>24.459551</td>\n",
       "    </tr>\n",
       "  </tbody>\n",
       "</table>\n",
       "</div>"
      ],
      "text/plain": [
       "      alpha_1     alpha_2     alpha_3      beta_1      beta_2      beta_3  \\\n",
       "0 -150.406980  -59.730861  396.928620    9.761703 -137.558889  159.598109   \n",
       "1  147.781782  153.729532  111.998962 -174.941235  -97.888332   26.493593   \n",
       "2  242.220616   82.947635 -102.073856  116.334349 -101.746729  176.452823   \n",
       "3  140.542086 -110.129037  215.560355  -11.927860  -11.257902   21.648833   \n",
       "4  169.367809  -92.182925  159.995515 -272.230740  -80.483153  -97.698901   \n",
       "\n",
       "      gamma_1     gamma_2     gamma_3       theta      noise  \n",
       "0 -137.558889   53.930955  154.713810 -232.436087  99.243140  \n",
       "1  -97.888332  -30.506871 -166.347802 -195.010710  20.242743  \n",
       "2 -101.746729  -33.419984   44.082548 -173.928682   3.806943  \n",
       "3  -11.257902  240.685680  133.441269 -276.382025   0.336025  \n",
       "4  -80.483153   16.251613  -13.177148 -100.316959  24.459551  "
      ]
     },
     "execution_count": 54,
     "metadata": {},
     "output_type": "execute_result"
    }
   ],
   "source": [
    "df_knn = pd.DataFrame(X_knn, columns = df.columns[:-1])\n",
    "df_knn.head()\n"
   ]
  },
  {
   "cell_type": "code",
   "execution_count": 55,
   "id": "distributed-memphis",
   "metadata": {},
   "outputs": [
    {
     "data": {
      "text/plain": [
       "<AxesSubplot:>"
      ]
     },
     "execution_count": 55,
     "metadata": {},
     "output_type": "execute_result"
    },
    {
     "data": {
      "image/png": "[encoded data removed]",
      "text/plain": [
       "<Figure size 432x288 with 2 Axes>"
      ]
     },
     "metadata": {
      "needs_background": "light"
     },
     "output_type": "display_data"
    }
   ],
   "source": [
    "sns.heatmap(df_knn.corr())"
   ]
  },
  {
   "cell_type": "code",
   "execution_count": 56,
   "id": "tender-plasma",
   "metadata": {},
   "outputs": [
    {
     "data": {
      "text/html": [
       "<div>\n",
       "<style scoped>\n",
       "    .dataframe tbody tr th:only-of-type {\n",
       "        vertical-align: middle;\n",
       "    }\n",
       "\n",
       "    .dataframe tbody tr th {\n",
       "        vertical-align: top;\n",
       "    }\n",
       "\n",
       "    .dataframe thead th {\n",
       "        text-align: right;\n",
       "    }\n",
       "</style>\n",
       "<table border=\"1\" class=\"dataframe\">\n",
       "  <thead>\n",
       "    <tr style=\"text-align: right;\">\n",
       "      <th></th>\n",
       "      <th>alpha_1</th>\n",
       "      <th>alpha_2</th>\n",
       "      <th>alpha_3</th>\n",
       "      <th>beta_1</th>\n",
       "      <th>beta_2</th>\n",
       "      <th>beta_3</th>\n",
       "      <th>gamma_1</th>\n",
       "      <th>gamma_2</th>\n",
       "      <th>gamma_3</th>\n",
       "      <th>theta</th>\n",
       "      <th>noise</th>\n",
       "    </tr>\n",
       "  </thead>\n",
       "  <tbody>\n",
       "    <tr>\n",
       "      <th>alpha_1</th>\n",
       "      <td>1.000000</td>\n",
       "      <td>-0.000464</td>\n",
       "      <td>-0.361094</td>\n",
       "      <td>0.012058</td>\n",
       "      <td>-0.138385</td>\n",
       "      <td>0.004825</td>\n",
       "      <td>-0.138374</td>\n",
       "      <td>0.000150</td>\n",
       "      <td>0.290984</td>\n",
       "      <td>-0.120403</td>\n",
       "      <td>0.001375</td>\n",
       "    </tr>\n",
       "    <tr>\n",
       "      <th>alpha_2</th>\n",
       "      <td>-0.000464</td>\n",
       "      <td>1.000000</td>\n",
       "      <td>0.001051</td>\n",
       "      <td>0.000253</td>\n",
       "      <td>-0.004762</td>\n",
       "      <td>0.000479</td>\n",
       "      <td>-0.004744</td>\n",
       "      <td>-0.000795</td>\n",
       "      <td>-0.000117</td>\n",
       "      <td>-0.001648</td>\n",
       "      <td>0.001311</td>\n",
       "    </tr>\n",
       "    <tr>\n",
       "      <th>alpha_3</th>\n",
       "      <td>-0.361094</td>\n",
       "      <td>0.001051</td>\n",
       "      <td>1.000000</td>\n",
       "      <td>-0.584323</td>\n",
       "      <td>0.122671</td>\n",
       "      <td>-0.000582</td>\n",
       "      <td>0.122683</td>\n",
       "      <td>-0.003739</td>\n",
       "      <td>0.209715</td>\n",
       "      <td>-0.657975</td>\n",
       "      <td>0.004392</td>\n",
       "    </tr>\n",
       "    <tr>\n",
       "      <th>beta_1</th>\n",
       "      <td>0.012058</td>\n",
       "      <td>0.000253</td>\n",
       "      <td>-0.584323</td>\n",
       "      <td>1.000000</td>\n",
       "      <td>-0.135089</td>\n",
       "      <td>-0.000757</td>\n",
       "      <td>-0.135118</td>\n",
       "      <td>-0.000672</td>\n",
       "      <td>0.159985</td>\n",
       "      <td>0.098229</td>\n",
       "      <td>-0.000839</td>\n",
       "    </tr>\n",
       "    <tr>\n",
       "      <th>beta_2</th>\n",
       "      <td>-0.138385</td>\n",
       "      <td>-0.004762</td>\n",
       "      <td>0.122671</td>\n",
       "      <td>-0.135089</td>\n",
       "      <td>1.000000</td>\n",
       "      <td>-0.003264</td>\n",
       "      <td>0.999984</td>\n",
       "      <td>0.004017</td>\n",
       "      <td>-0.101374</td>\n",
       "      <td>0.023044</td>\n",
       "      <td>0.002103</td>\n",
       "    </tr>\n",
       "    <tr>\n",
       "      <th>beta_3</th>\n",
       "      <td>0.004825</td>\n",
       "      <td>0.000479</td>\n",
       "      <td>-0.000582</td>\n",
       "      <td>-0.000757</td>\n",
       "      <td>-0.003264</td>\n",
       "      <td>1.000000</td>\n",
       "      <td>-0.003263</td>\n",
       "      <td>-0.005314</td>\n",
       "      <td>0.007143</td>\n",
       "      <td>0.001030</td>\n",
       "      <td>-0.001953</td>\n",
       "    </tr>\n",
       "    <tr>\n",
       "      <th>gamma_1</th>\n",
       "      <td>-0.138374</td>\n",
       "      <td>-0.004744</td>\n",
       "      <td>0.122683</td>\n",
       "      <td>-0.135118</td>\n",
       "      <td>0.999984</td>\n",
       "      <td>-0.003263</td>\n",
       "      <td>1.000000</td>\n",
       "      <td>0.003997</td>\n",
       "      <td>-0.101401</td>\n",
       "      <td>0.023029</td>\n",
       "      <td>0.002128</td>\n",
       "    </tr>\n",
       "    <tr>\n",
       "      <th>gamma_2</th>\n",
       "      <td>0.000150</td>\n",
       "      <td>-0.000795</td>\n",
       "      <td>-0.003739</td>\n",
       "      <td>-0.000672</td>\n",
       "      <td>0.004017</td>\n",
       "      <td>-0.005314</td>\n",
       "      <td>0.003997</td>\n",
       "      <td>1.000000</td>\n",
       "      <td>-0.004881</td>\n",
       "      <td>0.004688</td>\n",
       "      <td>0.000236</td>\n",
       "    </tr>\n",
       "    <tr>\n",
       "      <th>gamma_3</th>\n",
       "      <td>0.290984</td>\n",
       "      <td>-0.000117</td>\n",
       "      <td>0.209715</td>\n",
       "      <td>0.159985</td>\n",
       "      <td>-0.101374</td>\n",
       "      <td>0.007143</td>\n",
       "      <td>-0.101401</td>\n",
       "      <td>-0.004881</td>\n",
       "      <td>1.000000</td>\n",
       "      <td>-0.196065</td>\n",
       "      <td>0.004365</td>\n",
       "    </tr>\n",
       "    <tr>\n",
       "      <th>theta</th>\n",
       "      <td>-0.120403</td>\n",
       "      <td>-0.001648</td>\n",
       "      <td>-0.657975</td>\n",
       "      <td>0.098229</td>\n",
       "      <td>0.023044</td>\n",
       "      <td>0.001030</td>\n",
       "      <td>0.023029</td>\n",
       "      <td>0.004688</td>\n",
       "      <td>-0.196065</td>\n",
       "      <td>1.000000</td>\n",
       "      <td>-0.004365</td>\n",
       "    </tr>\n",
       "    <tr>\n",
       "      <th>noise</th>\n",
       "      <td>0.001375</td>\n",
       "      <td>0.001311</td>\n",
       "      <td>0.004392</td>\n",
       "      <td>-0.000839</td>\n",
       "      <td>0.002103</td>\n",
       "      <td>-0.001953</td>\n",
       "      <td>0.002128</td>\n",
       "      <td>0.000236</td>\n",
       "      <td>0.004365</td>\n",
       "      <td>-0.004365</td>\n",
       "      <td>1.000000</td>\n",
       "    </tr>\n",
       "  </tbody>\n",
       "</table>\n",
       "</div>"
      ],
      "text/plain": [
       "          alpha_1   alpha_2   alpha_3    beta_1    beta_2    beta_3   gamma_1  \\\n",
       "alpha_1  1.000000 -0.000464 -0.361094  0.012058 -0.138385  0.004825 -0.138374   \n",
       "alpha_2 -0.000464  1.000000  0.001051  0.000253 -0.004762  0.000479 -0.004744   \n",
       "alpha_3 -0.361094  0.001051  1.000000 -0.584323  0.122671 -0.000582  0.122683   \n",
       "beta_1   0.012058  0.000253 -0.584323  1.000000 -0.135089 -0.000757 -0.135118   \n",
       "beta_2  -0.138385 -0.004762  0.122671 -0.135089  1.000000 -0.003264  0.999984   \n",
       "beta_3   0.004825  0.000479 -0.000582 -0.000757 -0.003264  1.000000 -0.003263   \n",
       "gamma_1 -0.138374 -0.004744  0.122683 -0.135118  0.999984 -0.003263  1.000000   \n",
       "gamma_2  0.000150 -0.000795 -0.003739 -0.000672  0.004017 -0.005314  0.003997   \n",
       "gamma_3  0.290984 -0.000117  0.209715  0.159985 -0.101374  0.007143 -0.101401   \n",
       "theta   -0.120403 -0.001648 -0.657975  0.098229  0.023044  0.001030  0.023029   \n",
       "noise    0.001375  0.001311  0.004392 -0.000839  0.002103 -0.001953  0.002128   \n",
       "\n",
       "          gamma_2   gamma_3     theta     noise  \n",
       "alpha_1  0.000150  0.290984 -0.120403  0.001375  \n",
       "alpha_2 -0.000795 -0.000117 -0.001648  0.001311  \n",
       "alpha_3 -0.003739  0.209715 -0.657975  0.004392  \n",
       "beta_1  -0.000672  0.159985  0.098229 -0.000839  \n",
       "beta_2   0.004017 -0.101374  0.023044  0.002103  \n",
       "beta_3  -0.005314  0.007143  0.001030 -0.001953  \n",
       "gamma_1  0.003997 -0.101401  0.023029  0.002128  \n",
       "gamma_2  1.000000 -0.004881  0.004688  0.000236  \n",
       "gamma_3 -0.004881  1.000000 -0.196065  0.004365  \n",
       "theta    0.004688 -0.196065  1.000000 -0.004365  \n",
       "noise    0.000236  0.004365 -0.004365  1.000000  "
      ]
     },
     "execution_count": 56,
     "metadata": {},
     "output_type": "execute_result"
    }
   ],
   "source": [
    "df_knn.corr()\n"
   ]
  },
  {
   "cell_type": "code",
   "execution_count": 57,
   "id": "abandoned-league",
   "metadata": {},
   "outputs": [],
   "source": [
    "df_knn_2 = df_knn.drop(['alpha_2', 'beta_3', 'gamma_2', 'noise'], axis = 1)"
   ]
  },
  {
   "cell_type": "code",
   "execution_count": 66,
   "id": "harmful-romania",
   "metadata": {},
   "outputs": [],
   "source": [
    "X_knn_train_2, X_knn_test_2, y_knn_train_2, y_knn_test_2 = train_test_split(df_knn_2, y, test_size = 0.5, random_state = RANDOM_STATE)\n",
    "rf_bal = RandomForestClassifier(class_weight = 'balanced', n_estimators = 1000, random_state = RANDOM_STATE)\n",
    "rf_norm = RandomForestClassifier( n_estimators = 1000, random_state = RANDOM_STATE)\n",
    "\n"
   ]
  },
  {
   "cell_type": "code",
   "execution_count": 67,
   "id": "serious-plastic",
   "metadata": {},
   "outputs": [
    {
     "name": "stdout",
     "output_type": "stream",
     "text": [
      "              precision    recall  f1-score   support\n",
      "\n",
      "           0       0.83      0.90      0.86     16027\n",
      "           1       0.79      0.77      0.78     13743\n",
      "           2       0.82      0.89      0.85     21003\n",
      "           3       0.77      0.77      0.77      8875\n",
      "           4       0.61      0.10      0.18       832\n",
      "           5       0.76      0.30      0.44      1138\n",
      "           6       0.89      0.06      0.11       587\n",
      "           7       0.82      0.33      0.47      1456\n",
      "\n",
      "    accuracy                           0.81     63661\n",
      "   macro avg       0.79      0.51      0.56     63661\n",
      "weighted avg       0.80      0.81      0.80     63661\n",
      "\n"
     ]
    }
   ],
   "source": [
    "pred_bal = rf_bal.fit(X_knn_train_2, y_knn_train_2).predict(X_knn_test_2)\n",
    "pred_norm = rf_norm.fit(X_knn_train_2, y_knn_train_2).predict(X_knn_test_2)\n",
    "\n",
    "print(classification_report(y_knn_test_2, pred_bal))\n",
    "\n"
   ]
  },
  {
   "cell_type": "code",
   "execution_count": 68,
   "id": "violent-evidence",
   "metadata": {},
   "outputs": [
    {
     "name": "stdout",
     "output_type": "stream",
     "text": [
      "              precision    recall  f1-score   support\n",
      "\n",
      "           0       0.84      0.90      0.86     16027\n",
      "           1       0.78      0.77      0.77     13743\n",
      "           2       0.82      0.89      0.85     21003\n",
      "           3       0.77      0.77      0.77      8875\n",
      "           4       0.61      0.09      0.16       832\n",
      "           5       0.76      0.30      0.43      1138\n",
      "           6       0.88      0.05      0.09       587\n",
      "           7       0.81      0.33      0.47      1456\n",
      "\n",
      "    accuracy                           0.81     63661\n",
      "   macro avg       0.78      0.51      0.55     63661\n",
      "weighted avg       0.80      0.81      0.80     63661\n",
      "\n"
     ]
    }
   ],
   "source": [
    "print(classification_report(y_knn_test_2, pred_norm))"
   ]
  },
  {
   "cell_type": "code",
   "execution_count": null,
   "id": "modular-pearl",
   "metadata": {},
   "outputs": [],
   "source": []
  }
 ],
 "metadata": {
  "kernelspec": {
   "display_name": "env-jaume",
   "language": "python",
   "name": "env-jaume"
  },
  "language_info": {
   "codemirror_mode": {
    "name": "ipython",
    "version": 3
   },
   "file_extension": ".py",
   "mimetype": "text/x-python",
   "name": "python",
   "nbconvert_exporter": "python",
   "pygments_lexer": "ipython3",
   "version": "3.9.1"
  }
 },
 "nbformat": 4,
 "nbformat_minor": 5
}
